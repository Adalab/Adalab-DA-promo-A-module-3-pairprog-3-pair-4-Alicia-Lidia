{
 "cells": [
  {
   "cell_type": "markdown",
   "metadata": {},
   "source": [
    "# <span style=\"color:orange\">25/05 - Pair Regresión 1- Alicia y Lidia</span>"
   ]
  },
  {
   "cell_type": "code",
   "execution_count": 59,
   "metadata": {},
   "outputs": [],
   "source": [
    "import numpy as np\n",
    "import pandas as pd\n",
    "import matplotlib.pyplot as plt\n",
    "import seaborn as sns\n",
    "import sidetable\n",
    "\n",
    "import statsmodels.api as sm\n",
    "import pylab as py\n",
    "from sklearn.model_selection import train_test_split\n",
    "from sklearn.linear_model import LinearRegression\n",
    "from sklearn.metrics import r2_score, mean_squared_error, mean_absolute_error"
   ]
  },
  {
   "cell_type": "markdown",
   "metadata": {},
   "source": [
    "Buscar un conjunto de datos a analizar:\n",
    "- Se recomienda que el conjunto de datos a analizar tenga variables numéricas y categóricas y limpio."
   ]
  },
  {
   "cell_type": "code",
   "execution_count": 60,
   "metadata": {},
   "outputs": [
    {
     "data": {
      "text/html": [
       "<div>\n",
       "<style scoped>\n",
       "    .dataframe tbody tr th:only-of-type {\n",
       "        vertical-align: middle;\n",
       "    }\n",
       "\n",
       "    .dataframe tbody tr th {\n",
       "        vertical-align: top;\n",
       "    }\n",
       "\n",
       "    .dataframe thead th {\n",
       "        text-align: right;\n",
       "    }\n",
       "</style>\n",
       "<table border=\"1\" class=\"dataframe\">\n",
       "  <thead>\n",
       "    <tr style=\"text-align: right;\">\n",
       "      <th></th>\n",
       "      <th>Rank</th>\n",
       "      <th>Account</th>\n",
       "      <th>Title</th>\n",
       "      <th>Link</th>\n",
       "      <th>Subscribers count</th>\n",
       "      <th>Views avg.</th>\n",
       "      <th>Likes avg.</th>\n",
       "      <th>Comments avg.</th>\n",
       "      <th>Shares avg.</th>\n",
       "      <th>Scraped</th>\n",
       "    </tr>\n",
       "    <tr>\n",
       "      <th>Country</th>\n",
       "      <th></th>\n",
       "      <th></th>\n",
       "      <th></th>\n",
       "      <th></th>\n",
       "      <th></th>\n",
       "      <th></th>\n",
       "      <th></th>\n",
       "      <th></th>\n",
       "      <th></th>\n",
       "      <th></th>\n",
       "    </tr>\n",
       "  </thead>\n",
       "  <tbody>\n",
       "    <tr>\n",
       "      <th>All</th>\n",
       "      <td>1</td>\n",
       "      <td>billieeilish</td>\n",
       "      <td>BILLIE EILISH</td>\n",
       "      <td>https://www.tiktok.com/@billieeilish</td>\n",
       "      <td>41600000</td>\n",
       "      <td>95000000</td>\n",
       "      <td>18100000</td>\n",
       "      <td>151000</td>\n",
       "      <td>54800</td>\n",
       "      <td>2022-02-07 16:54:35.641971</td>\n",
       "    </tr>\n",
       "    <tr>\n",
       "      <th>All</th>\n",
       "      <td>2</td>\n",
       "      <td>badbunny</td>\n",
       "      <td>Bad Bunny</td>\n",
       "      <td>https://www.tiktok.com/@badbunny</td>\n",
       "      <td>13400000</td>\n",
       "      <td>33300000</td>\n",
       "      <td>7300000</td>\n",
       "      <td>101900</td>\n",
       "      <td>106800</td>\n",
       "      <td>2022-02-07 16:54:35.641971</td>\n",
       "    </tr>\n",
       "    <tr>\n",
       "      <th>All</th>\n",
       "      <td>3</td>\n",
       "      <td>chipmunksoftiktok</td>\n",
       "      <td>Chipmunks of TikTok</td>\n",
       "      <td>https://www.tiktok.com/@chipmunksoftiktok</td>\n",
       "      <td>11400000</td>\n",
       "      <td>25000000</td>\n",
       "      <td>3000000</td>\n",
       "      <td>21800</td>\n",
       "      <td>64200</td>\n",
       "      <td>2022-02-07 16:54:35.641971</td>\n",
       "    </tr>\n",
       "    <tr>\n",
       "      <th>All</th>\n",
       "      <td>4</td>\n",
       "      <td>charlidamelio</td>\n",
       "      <td>charli d’amelio</td>\n",
       "      <td>https://www.tiktok.com/@charlidamelio</td>\n",
       "      <td>135400000</td>\n",
       "      <td>18700000</td>\n",
       "      <td>2600000</td>\n",
       "      <td>54700</td>\n",
       "      <td>35200</td>\n",
       "      <td>2022-02-07 16:54:35.641971</td>\n",
       "    </tr>\n",
       "    <tr>\n",
       "      <th>All</th>\n",
       "      <td>5</td>\n",
       "      <td>yessicadcs</td>\n",
       "      <td>Yessica y Moises 🦜</td>\n",
       "      <td>https://www.tiktok.com/@yessicadcs</td>\n",
       "      <td>263700</td>\n",
       "      <td>16700000</td>\n",
       "      <td>1400000</td>\n",
       "      <td>16200</td>\n",
       "      <td>138400</td>\n",
       "      <td>2022-02-07 16:54:35.641971</td>\n",
       "    </tr>\n",
       "  </tbody>\n",
       "</table>\n",
       "</div>"
      ],
      "text/plain": [
       "         Rank            Account                Title  \\\n",
       "Country                                                 \n",
       "All         1       billieeilish        BILLIE EILISH   \n",
       "All         2           badbunny            Bad Bunny   \n",
       "All         3  chipmunksoftiktok  Chipmunks of TikTok   \n",
       "All         4      charlidamelio      charli d’amelio   \n",
       "All         5         yessicadcs   Yessica y Moises 🦜   \n",
       "\n",
       "                                              Link  Subscribers count  \\\n",
       "Country                                                                 \n",
       "All           https://www.tiktok.com/@billieeilish           41600000   \n",
       "All               https://www.tiktok.com/@badbunny           13400000   \n",
       "All      https://www.tiktok.com/@chipmunksoftiktok           11400000   \n",
       "All          https://www.tiktok.com/@charlidamelio          135400000   \n",
       "All             https://www.tiktok.com/@yessicadcs             263700   \n",
       "\n",
       "         Views avg.  Likes avg.  Comments avg.  Shares avg.  \\\n",
       "Country                                                       \n",
       "All        95000000    18100000         151000        54800   \n",
       "All        33300000     7300000         101900       106800   \n",
       "All        25000000     3000000          21800        64200   \n",
       "All        18700000     2600000          54700        35200   \n",
       "All        16700000     1400000          16200       138400   \n",
       "\n",
       "                            Scraped  \n",
       "Country                              \n",
       "All      2022-02-07 16:54:35.641971  \n",
       "All      2022-02-07 16:54:35.641971  \n",
       "All      2022-02-07 16:54:35.641971  \n",
       "All      2022-02-07 16:54:35.641971  \n",
       "All      2022-02-07 16:54:35.641971  "
      ]
     },
     "execution_count": 60,
     "metadata": {},
     "output_type": "execute_result"
    }
   ],
   "source": [
    "df = pd.read_csv('tiktok_top_1000.csv', index_col=0)\n",
    "df.head()"
   ]
  },
  {
   "cell_type": "code",
   "execution_count": 61,
   "metadata": {},
   "outputs": [],
   "source": [
    "df = df.reset_index()"
   ]
  },
  {
   "cell_type": "markdown",
   "metadata": {},
   "source": [
    "Explicar los datos y las variables disponibles en el conjunto de datos seleccionado:\n",
    "-  Esto se hace para que comprendais mejor los datos con los que estais trabajando.\n",
    "- Realizar un EDA sencillo para la variable dependiente y la variable independiente.\n"
   ]
  },
  {
   "cell_type": "markdown",
   "metadata": {},
   "source": [
    "    Hacemos una limpieza inicial de las columnas que no vamos a utilizar."
   ]
  },
  {
   "cell_type": "code",
   "execution_count": 62,
   "metadata": {},
   "outputs": [
    {
     "data": {
      "text/html": [
       "<div>\n",
       "<style scoped>\n",
       "    .dataframe tbody tr th:only-of-type {\n",
       "        vertical-align: middle;\n",
       "    }\n",
       "\n",
       "    .dataframe tbody tr th {\n",
       "        vertical-align: top;\n",
       "    }\n",
       "\n",
       "    .dataframe thead th {\n",
       "        text-align: right;\n",
       "    }\n",
       "</style>\n",
       "<table border=\"1\" class=\"dataframe\">\n",
       "  <thead>\n",
       "    <tr style=\"text-align: right;\">\n",
       "      <th></th>\n",
       "      <th>Country</th>\n",
       "      <th>Rank</th>\n",
       "      <th>Account</th>\n",
       "      <th>Title</th>\n",
       "      <th>Link</th>\n",
       "      <th>Subscribers count</th>\n",
       "      <th>Views avg.</th>\n",
       "      <th>Likes avg.</th>\n",
       "      <th>Comments avg.</th>\n",
       "      <th>Shares avg.</th>\n",
       "      <th>Scraped</th>\n",
       "    </tr>\n",
       "  </thead>\n",
       "  <tbody>\n",
       "    <tr>\n",
       "      <th>0</th>\n",
       "      <td>All</td>\n",
       "      <td>1</td>\n",
       "      <td>billieeilish</td>\n",
       "      <td>BILLIE EILISH</td>\n",
       "      <td>https://www.tiktok.com/@billieeilish</td>\n",
       "      <td>41600000</td>\n",
       "      <td>95000000</td>\n",
       "      <td>18100000</td>\n",
       "      <td>151000</td>\n",
       "      <td>54800</td>\n",
       "      <td>2022-02-07 16:54:35.641971</td>\n",
       "    </tr>\n",
       "    <tr>\n",
       "      <th>1</th>\n",
       "      <td>All</td>\n",
       "      <td>2</td>\n",
       "      <td>badbunny</td>\n",
       "      <td>Bad Bunny</td>\n",
       "      <td>https://www.tiktok.com/@badbunny</td>\n",
       "      <td>13400000</td>\n",
       "      <td>33300000</td>\n",
       "      <td>7300000</td>\n",
       "      <td>101900</td>\n",
       "      <td>106800</td>\n",
       "      <td>2022-02-07 16:54:35.641971</td>\n",
       "    </tr>\n",
       "    <tr>\n",
       "      <th>2</th>\n",
       "      <td>All</td>\n",
       "      <td>3</td>\n",
       "      <td>chipmunksoftiktok</td>\n",
       "      <td>Chipmunks of TikTok</td>\n",
       "      <td>https://www.tiktok.com/@chipmunksoftiktok</td>\n",
       "      <td>11400000</td>\n",
       "      <td>25000000</td>\n",
       "      <td>3000000</td>\n",
       "      <td>21800</td>\n",
       "      <td>64200</td>\n",
       "      <td>2022-02-07 16:54:35.641971</td>\n",
       "    </tr>\n",
       "    <tr>\n",
       "      <th>3</th>\n",
       "      <td>All</td>\n",
       "      <td>4</td>\n",
       "      <td>charlidamelio</td>\n",
       "      <td>charli d’amelio</td>\n",
       "      <td>https://www.tiktok.com/@charlidamelio</td>\n",
       "      <td>135400000</td>\n",
       "      <td>18700000</td>\n",
       "      <td>2600000</td>\n",
       "      <td>54700</td>\n",
       "      <td>35200</td>\n",
       "      <td>2022-02-07 16:54:35.641971</td>\n",
       "    </tr>\n",
       "    <tr>\n",
       "      <th>4</th>\n",
       "      <td>All</td>\n",
       "      <td>5</td>\n",
       "      <td>yessicadcs</td>\n",
       "      <td>Yessica y Moises 🦜</td>\n",
       "      <td>https://www.tiktok.com/@yessicadcs</td>\n",
       "      <td>263700</td>\n",
       "      <td>16700000</td>\n",
       "      <td>1400000</td>\n",
       "      <td>16200</td>\n",
       "      <td>138400</td>\n",
       "      <td>2022-02-07 16:54:35.641971</td>\n",
       "    </tr>\n",
       "  </tbody>\n",
       "</table>\n",
       "</div>"
      ],
      "text/plain": [
       "  Country  Rank            Account                Title  \\\n",
       "0     All     1       billieeilish        BILLIE EILISH   \n",
       "1     All     2           badbunny            Bad Bunny   \n",
       "2     All     3  chipmunksoftiktok  Chipmunks of TikTok   \n",
       "3     All     4      charlidamelio      charli d’amelio   \n",
       "4     All     5         yessicadcs   Yessica y Moises 🦜   \n",
       "\n",
       "                                        Link  Subscribers count  Views avg.  \\\n",
       "0       https://www.tiktok.com/@billieeilish           41600000    95000000   \n",
       "1           https://www.tiktok.com/@badbunny           13400000    33300000   \n",
       "2  https://www.tiktok.com/@chipmunksoftiktok           11400000    25000000   \n",
       "3      https://www.tiktok.com/@charlidamelio          135400000    18700000   \n",
       "4         https://www.tiktok.com/@yessicadcs             263700    16700000   \n",
       "\n",
       "   Likes avg.  Comments avg.  Shares avg.                     Scraped  \n",
       "0    18100000         151000        54800  2022-02-07 16:54:35.641971  \n",
       "1     7300000         101900       106800  2022-02-07 16:54:35.641971  \n",
       "2     3000000          21800        64200  2022-02-07 16:54:35.641971  \n",
       "3     2600000          54700        35200  2022-02-07 16:54:35.641971  \n",
       "4     1400000          16200       138400  2022-02-07 16:54:35.641971  "
      ]
     },
     "execution_count": 62,
     "metadata": {},
     "output_type": "execute_result"
    }
   ],
   "source": [
    "df.head()"
   ]
  },
  {
   "cell_type": "code",
   "execution_count": 63,
   "metadata": {},
   "outputs": [],
   "source": [
    "df.drop(['Link', 'Country', 'Scraped', 'Title'], axis=1, inplace=True)"
   ]
  },
  {
   "cell_type": "code",
   "execution_count": 64,
   "metadata": {},
   "outputs": [
    {
     "data": {
      "text/plain": [
       "Index(['Rank', 'Account', 'Subscribers count', 'Views avg.', 'Likes avg.',\n",
       "       'Comments avg.', 'Shares avg.'],\n",
       "      dtype='object')"
      ]
     },
     "execution_count": 64,
     "metadata": {},
     "output_type": "execute_result"
    }
   ],
   "source": [
    "df.columns"
   ]
  },
  {
   "cell_type": "code",
   "execution_count": 65,
   "metadata": {},
   "outputs": [
    {
     "data": {
      "text/plain": [
       "Rank                   int64\n",
       "Account               object\n",
       "Subscribers count    float64\n",
       "Views avg.           float64\n",
       "Likes avg.           float64\n",
       "Comments avg.        float64\n",
       "Shares avg.          float64\n",
       "dtype: object"
      ]
     },
     "execution_count": 65,
     "metadata": {},
     "output_type": "execute_result"
    }
   ],
   "source": [
    "df.dtypes"
   ]
  },
  {
   "cell_type": "markdown",
   "metadata": {},
   "source": [
    "    Vemos que hay mayusculas y minusculas en el nombre de las columnas y pasamos a ponerlas todas de un mismo tipo."
   ]
  },
  {
   "cell_type": "code",
   "execution_count": 66,
   "metadata": {},
   "outputs": [],
   "source": [
    "nuevas_columnas = {col:col.replace(\" \",\"_\").lower()for col in df.columns}\n",
    "df.rename(columns = nuevas_columnas, inplace = True)"
   ]
  },
  {
   "cell_type": "code",
   "execution_count": 67,
   "metadata": {},
   "outputs": [
    {
     "data": {
      "text/html": [
       "<div>\n",
       "<style scoped>\n",
       "    .dataframe tbody tr th:only-of-type {\n",
       "        vertical-align: middle;\n",
       "    }\n",
       "\n",
       "    .dataframe tbody tr th {\n",
       "        vertical-align: top;\n",
       "    }\n",
       "\n",
       "    .dataframe thead th {\n",
       "        text-align: right;\n",
       "    }\n",
       "</style>\n",
       "<table border=\"1\" class=\"dataframe\">\n",
       "  <thead>\n",
       "    <tr style=\"text-align: right;\">\n",
       "      <th></th>\n",
       "      <th>rank</th>\n",
       "      <th>account</th>\n",
       "      <th>subscribers_count</th>\n",
       "      <th>views_avg.</th>\n",
       "      <th>likes_avg.</th>\n",
       "      <th>comments_avg.</th>\n",
       "      <th>shares_avg.</th>\n",
       "    </tr>\n",
       "  </thead>\n",
       "  <tbody>\n",
       "    <tr>\n",
       "      <th>0</th>\n",
       "      <td>1</td>\n",
       "      <td>billieeilish</td>\n",
       "      <td>41600000</td>\n",
       "      <td>95000000</td>\n",
       "      <td>18100000</td>\n",
       "      <td>151000</td>\n",
       "      <td>54800</td>\n",
       "    </tr>\n",
       "    <tr>\n",
       "      <th>1</th>\n",
       "      <td>2</td>\n",
       "      <td>badbunny</td>\n",
       "      <td>13400000</td>\n",
       "      <td>33300000</td>\n",
       "      <td>7300000</td>\n",
       "      <td>101900</td>\n",
       "      <td>106800</td>\n",
       "    </tr>\n",
       "    <tr>\n",
       "      <th>2</th>\n",
       "      <td>3</td>\n",
       "      <td>chipmunksoftiktok</td>\n",
       "      <td>11400000</td>\n",
       "      <td>25000000</td>\n",
       "      <td>3000000</td>\n",
       "      <td>21800</td>\n",
       "      <td>64200</td>\n",
       "    </tr>\n",
       "    <tr>\n",
       "      <th>3</th>\n",
       "      <td>4</td>\n",
       "      <td>charlidamelio</td>\n",
       "      <td>135400000</td>\n",
       "      <td>18700000</td>\n",
       "      <td>2600000</td>\n",
       "      <td>54700</td>\n",
       "      <td>35200</td>\n",
       "    </tr>\n",
       "    <tr>\n",
       "      <th>4</th>\n",
       "      <td>5</td>\n",
       "      <td>yessicadcs</td>\n",
       "      <td>263700</td>\n",
       "      <td>16700000</td>\n",
       "      <td>1400000</td>\n",
       "      <td>16200</td>\n",
       "      <td>138400</td>\n",
       "    </tr>\n",
       "  </tbody>\n",
       "</table>\n",
       "</div>"
      ],
      "text/plain": [
       "   rank            account  subscribers_count  views_avg.  likes_avg.  \\\n",
       "0     1       billieeilish           41600000    95000000    18100000   \n",
       "1     2           badbunny           13400000    33300000     7300000   \n",
       "2     3  chipmunksoftiktok           11400000    25000000     3000000   \n",
       "3     4      charlidamelio          135400000    18700000     2600000   \n",
       "4     5         yessicadcs             263700    16700000     1400000   \n",
       "\n",
       "   comments_avg.  shares_avg.  \n",
       "0         151000        54800  \n",
       "1         101900       106800  \n",
       "2          21800        64200  \n",
       "3          54700        35200  \n",
       "4          16200       138400  "
      ]
     },
     "execution_count": 67,
     "metadata": {},
     "output_type": "execute_result"
    }
   ],
   "source": [
    "df.head()"
   ]
  },
  {
   "cell_type": "code",
   "execution_count": 68,
   "metadata": {},
   "outputs": [],
   "source": [
    "#df['media_total'] = df['views_avg.'[0]+ 'likes_avg.'[0] + 'comments_avg.'[0] + 'shares_avg.'[0]]/4"
   ]
  },
  {
   "cell_type": "code",
   "execution_count": 69,
   "metadata": {},
   "outputs": [
    {
     "data": {
      "text/plain": [
       "1100000    13\n",
       "1600000    10\n",
       "1200000    10\n",
       "1000000     7\n",
       "1400000     5\n",
       "           ..\n",
       "412900      1\n",
       "330700      1\n",
       "318800      1\n",
       "376800      1\n",
       "320300      1\n",
       "Name: likes_avg., Length: 874, dtype: int64"
      ]
     },
     "execution_count": 69,
     "metadata": {},
     "output_type": "execute_result"
    }
   ],
   "source": [
    "df['likes_avg.'].value_counts()"
   ]
  },
  {
   "cell_type": "code",
   "execution_count": 70,
   "metadata": {},
   "outputs": [
    {
     "data": {
      "text/html": [
       "<div>\n",
       "<style scoped>\n",
       "    .dataframe tbody tr th:only-of-type {\n",
       "        vertical-align: middle;\n",
       "    }\n",
       "\n",
       "    .dataframe tbody tr th {\n",
       "        vertical-align: top;\n",
       "    }\n",
       "\n",
       "    .dataframe thead th {\n",
       "        text-align: right;\n",
       "    }\n",
       "</style>\n",
       "<table border=\"1\" class=\"dataframe\">\n",
       "  <thead>\n",
       "    <tr style=\"text-align: right;\">\n",
       "      <th></th>\n",
       "      <th>rank</th>\n",
       "      <th>subscribers_count</th>\n",
       "      <th>views_avg.</th>\n",
       "      <th>likes_avg.</th>\n",
       "      <th>comments_avg.</th>\n",
       "      <th>shares_avg.</th>\n",
       "    </tr>\n",
       "  </thead>\n",
       "  <tbody>\n",
       "    <tr>\n",
       "      <th>count</th>\n",
       "      <td>1000</td>\n",
       "      <td>1000</td>\n",
       "      <td>1000</td>\n",
       "      <td>1000</td>\n",
       "      <td>1000</td>\n",
       "      <td>1000</td>\n",
       "    </tr>\n",
       "    <tr>\n",
       "      <th>mean</th>\n",
       "      <td>500</td>\n",
       "      <td>7049170</td>\n",
       "      <td>3700866</td>\n",
       "      <td>453741</td>\n",
       "      <td>4559</td>\n",
       "      <td>10681</td>\n",
       "    </tr>\n",
       "    <tr>\n",
       "      <th>std</th>\n",
       "      <td>289</td>\n",
       "      <td>10872669</td>\n",
       "      <td>4697164</td>\n",
       "      <td>696476</td>\n",
       "      <td>7766</td>\n",
       "      <td>167772</td>\n",
       "    </tr>\n",
       "    <tr>\n",
       "      <th>min</th>\n",
       "      <td>1</td>\n",
       "      <td>4300</td>\n",
       "      <td>585300</td>\n",
       "      <td>31000</td>\n",
       "      <td>0</td>\n",
       "      <td>212</td>\n",
       "    </tr>\n",
       "    <tr>\n",
       "      <th>25%</th>\n",
       "      <td>251</td>\n",
       "      <td>1400000</td>\n",
       "      <td>1800000</td>\n",
       "      <td>230450</td>\n",
       "      <td>1600</td>\n",
       "      <td>1200</td>\n",
       "    </tr>\n",
       "    <tr>\n",
       "      <th>50%</th>\n",
       "      <td>500</td>\n",
       "      <td>3700000</td>\n",
       "      <td>2600000</td>\n",
       "      <td>320200</td>\n",
       "      <td>2800</td>\n",
       "      <td>2400</td>\n",
       "    </tr>\n",
       "    <tr>\n",
       "      <th>75%</th>\n",
       "      <td>750</td>\n",
       "      <td>8625000</td>\n",
       "      <td>4000000</td>\n",
       "      <td>478375</td>\n",
       "      <td>4900</td>\n",
       "      <td>5400</td>\n",
       "    </tr>\n",
       "    <tr>\n",
       "      <th>max</th>\n",
       "      <td>1000</td>\n",
       "      <td>135400000</td>\n",
       "      <td>95000000</td>\n",
       "      <td>18100000</td>\n",
       "      <td>151000</td>\n",
       "      <td>5300000</td>\n",
       "    </tr>\n",
       "  </tbody>\n",
       "</table>\n",
       "</div>"
      ],
      "text/plain": [
       "       rank  subscribers_count  views_avg.  likes_avg.  comments_avg.  \\\n",
       "count  1000               1000        1000        1000           1000   \n",
       "mean    500            7049170     3700866      453741           4559   \n",
       "std     289           10872669     4697164      696476           7766   \n",
       "min       1               4300      585300       31000              0   \n",
       "25%     251            1400000     1800000      230450           1600   \n",
       "50%     500            3700000     2600000      320200           2800   \n",
       "75%     750            8625000     4000000      478375           4900   \n",
       "max    1000          135400000    95000000    18100000         151000   \n",
       "\n",
       "       shares_avg.  \n",
       "count         1000  \n",
       "mean         10681  \n",
       "std         167772  \n",
       "min            212  \n",
       "25%           1200  \n",
       "50%           2400  \n",
       "75%           5400  \n",
       "max        5300000  "
      ]
     },
     "execution_count": 70,
     "metadata": {},
     "output_type": "execute_result"
    }
   ],
   "source": [
    "pd.set_option(\"display.float_format\",lambda x: \"%3.f\" %x) #Usamos esta linea de código para que no aparezca los exponenciales\n",
    "df.describe()"
   ]
  },
  {
   "cell_type": "code",
   "execution_count": 71,
   "metadata": {},
   "outputs": [
    {
     "name": "stdout",
     "output_type": "stream",
     "text": [
      "<class 'pandas.core.frame.DataFrame'>\n",
      "RangeIndex: 1000 entries, 0 to 999\n",
      "Data columns (total 7 columns):\n",
      " #   Column             Non-Null Count  Dtype  \n",
      "---  ------             --------------  -----  \n",
      " 0   rank               1000 non-null   int64  \n",
      " 1   account            1000 non-null   object \n",
      " 2   subscribers_count  1000 non-null   float64\n",
      " 3   views_avg.         1000 non-null   float64\n",
      " 4   likes_avg.         1000 non-null   float64\n",
      " 5   comments_avg.      1000 non-null   float64\n",
      " 6   shares_avg.        1000 non-null   float64\n",
      "dtypes: float64(5), int64(1), object(1)\n",
      "memory usage: 54.8+ KB\n"
     ]
    }
   ],
   "source": [
    "df.info()"
   ]
  },
  {
   "cell_type": "code",
   "execution_count": 72,
   "metadata": {},
   "outputs": [
    {
     "data": {
      "text/html": [
       "<div>\n",
       "<style scoped>\n",
       "    .dataframe tbody tr th:only-of-type {\n",
       "        vertical-align: middle;\n",
       "    }\n",
       "\n",
       "    .dataframe tbody tr th {\n",
       "        vertical-align: top;\n",
       "    }\n",
       "\n",
       "    .dataframe thead th {\n",
       "        text-align: right;\n",
       "    }\n",
       "</style>\n",
       "<table border=\"1\" class=\"dataframe\">\n",
       "  <thead>\n",
       "    <tr style=\"text-align: right;\">\n",
       "      <th></th>\n",
       "      <th>missing</th>\n",
       "      <th>total</th>\n",
       "      <th>percent</th>\n",
       "    </tr>\n",
       "  </thead>\n",
       "  <tbody>\n",
       "    <tr>\n",
       "      <th>rank</th>\n",
       "      <td>0</td>\n",
       "      <td>1000</td>\n",
       "      <td>0</td>\n",
       "    </tr>\n",
       "    <tr>\n",
       "      <th>account</th>\n",
       "      <td>0</td>\n",
       "      <td>1000</td>\n",
       "      <td>0</td>\n",
       "    </tr>\n",
       "    <tr>\n",
       "      <th>subscribers_count</th>\n",
       "      <td>0</td>\n",
       "      <td>1000</td>\n",
       "      <td>0</td>\n",
       "    </tr>\n",
       "    <tr>\n",
       "      <th>views_avg.</th>\n",
       "      <td>0</td>\n",
       "      <td>1000</td>\n",
       "      <td>0</td>\n",
       "    </tr>\n",
       "    <tr>\n",
       "      <th>likes_avg.</th>\n",
       "      <td>0</td>\n",
       "      <td>1000</td>\n",
       "      <td>0</td>\n",
       "    </tr>\n",
       "    <tr>\n",
       "      <th>comments_avg.</th>\n",
       "      <td>0</td>\n",
       "      <td>1000</td>\n",
       "      <td>0</td>\n",
       "    </tr>\n",
       "    <tr>\n",
       "      <th>shares_avg.</th>\n",
       "      <td>0</td>\n",
       "      <td>1000</td>\n",
       "      <td>0</td>\n",
       "    </tr>\n",
       "  </tbody>\n",
       "</table>\n",
       "</div>"
      ],
      "text/plain": [
       "                   missing  total  percent\n",
       "rank                     0   1000        0\n",
       "account                  0   1000        0\n",
       "subscribers_count        0   1000        0\n",
       "views_avg.               0   1000        0\n",
       "likes_avg.               0   1000        0\n",
       "comments_avg.            0   1000        0\n",
       "shares_avg.              0   1000        0"
      ]
     },
     "execution_count": 72,
     "metadata": {},
     "output_type": "execute_result"
    }
   ],
   "source": [
    "df.stb.missing()"
   ]
  },
  {
   "cell_type": "markdown",
   "metadata": {},
   "source": [
    "    Como podemos observar en nuestra tabla de valores nulos, tenemos un DF bastante limpio."
   ]
  },
  {
   "cell_type": "code",
   "execution_count": 73,
   "metadata": {},
   "outputs": [
    {
     "data": {
      "text/plain": [
       "(1000, 7)"
      ]
     },
     "execution_count": 73,
     "metadata": {},
     "output_type": "execute_result"
    }
   ],
   "source": [
    "df.shape"
   ]
  },
  {
   "cell_type": "markdown",
   "metadata": {},
   "source": [
    "    Confirmamos que tenemos 1000 filas por los 1000 artistas más famoso de Tiktok."
   ]
  },
  {
   "cell_type": "markdown",
   "metadata": {},
   "source": [
    "     Al ver que no tenemos nulos y que nuestras variables tienen diferentes valores, vemos poco informativo comprobar los valores únicos(unique) y su frecuencia(value_counts)."
   ]
  },
  {
   "cell_type": "markdown",
   "metadata": {},
   "source": [
    "Realiza el ajuste lineal simple utilizando diversas métricas y realiza una gráfica mostrando los resultados e interpretalos."
   ]
  },
  {
   "cell_type": "code",
   "execution_count": 74,
   "metadata": {},
   "outputs": [],
   "source": [
    "x=df['subscribers_count'].values.reshape(-1, 1) # Le hacemos el reshape ya que el modelo espera que le pasemos un array de 2 dimensiones con una única columna.\n",
    "y= df['views_avg.'].values.reshape(-1, 1)\n",
    "x_train, x_test, y_train, y_test = train_test_split(x, y, test_size = 0.2, random_state = 42)"
   ]
  },
  {
   "cell_type": "code",
   "execution_count": 75,
   "metadata": {},
   "outputs": [],
   "source": [
    "LR = LinearRegression(n_jobs=-1)\n",
    "LR.fit(x_train, y_train)\n",
    "y_predict_train = LR.predict(x_train)\n",
    "y_prediction = LR.predict(x_test)"
   ]
  },
  {
   "cell_type": "code",
   "execution_count": 76,
   "metadata": {},
   "outputs": [
    {
     "data": {
      "image/png": "[encoded data removed]",
      "text/plain": [
       "<Figure size 432x288 with 1 Axes>"
      ]
     },
     "metadata": {
      "needs_background": "light"
     },
     "output_type": "display_data"
    }
   ],
   "source": [
    "plt.scatter(x_test,y_test,color=\"blue\")  # Plot a graph with X_train vs y_train\n",
    "plt.plot(x_test,y_prediction,color=\"red\",linewidth=3) \n",
    "plt.title('Regresión (Conjunto de entrenamiento)')\n",
    "plt.xlabel('Suscriptores')\n",
    "plt.ylabel('Visualizaciones')\n",
    "plt.show()"
   ]
  },
  {
   "cell_type": "code",
   "execution_count": 77,
   "metadata": {},
   "outputs": [
    {
     "name": "stdout",
     "output_type": "stream",
     "text": [
      "Para el conjunto train:---------------\n",
      "El valor de r2 score es  0.07636513690781233\n",
      "El MAE es 2039819.859514654\n",
      "El MSE es 20148224831161.01\n",
      "EL RMSE es  4488677.403329517\n"
     ]
    }
   ],
   "source": [
    "# Para el conjunto de entrenamiento las méticas han sido\n",
    "print('Para el conjunto train:---------------')\n",
    "print('El valor de r2 score es ',r2_score(y_train,y_predict_train))\n",
    "print('El MAE es',mean_absolute_error(y_train,y_predict_train))\n",
    "print('El MSE es',mean_squared_error(y_train,y_predict_train))\n",
    "print('EL RMSE es ',np.sqrt(mean_squared_error(y_train,y_predict_train)))\n"
   ]
  },
  {
   "cell_type": "code",
   "execution_count": 78,
   "metadata": {},
   "outputs": [
    {
     "name": "stdout",
     "output_type": "stream",
     "text": [
      "Para el conjunto test:---------------\n",
      "El valor de r2 score es  -0.004168710201015946\n",
      "El MAE es 1915792.3272962563\n",
      "El MSE es 23034478105937.31\n",
      "EL RMSE es  4799424.76823393\n"
     ]
    }
   ],
   "source": [
    "# Para el conjunto de test las métricas han sido\n",
    "print('Para el conjunto test:---------------')\n",
    "print('El valor de r2 score es ',r2_score(y_test,y_prediction))\n",
    "print('El MAE es',mean_absolute_error(y_test,y_prediction))\n",
    "print('El MSE es',mean_squared_error(y_test,y_prediction))\n",
    "print('EL RMSE es ',np.sqrt(mean_squared_error(y_test,y_prediction)))"
   ]
  },
  {
   "cell_type": "markdown",
   "metadata": {},
   "source": [
    "    En general para las métricas, cuanto menor sea el valor obtenido, mejor es capaz de ajustar los datos del modelo que hemos creado"
   ]
  },
  {
   "cell_type": "code",
   "execution_count": 79,
   "metadata": {},
   "outputs": [],
   "source": [
    "df.to_csv('tiktok_top_1000_2\".csv')"
   ]
  }
 ],
 "metadata": {
  "interpreter": {
   "hash": "40d3a090f54c6569ab1632332b64b2c03c39dcf918b08424e98f38b5ae0af88f"
  },
  "kernelspec": {
   "display_name": "Python 3.9.7 ('base')",
   "language": "python",
   "name": "python3"
  },
  "language_info": {
   "codemirror_mode": {
    "name": "ipython",
    "version": 3
   },
   "file_extension": ".py",
   "mimetype": "text/x-python",
   "name": "python",
   "nbconvert_exporter": "python",
   "pygments_lexer": "ipython3",
   "version": "3.9.7"
  },
  "orig_nbformat": 4
 },
 "nbformat": 4,
 "nbformat_minor": 2
}
