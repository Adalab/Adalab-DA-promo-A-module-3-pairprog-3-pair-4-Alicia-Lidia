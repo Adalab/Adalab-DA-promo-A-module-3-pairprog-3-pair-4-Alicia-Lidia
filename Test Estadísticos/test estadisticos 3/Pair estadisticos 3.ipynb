{
 "cells": [
  {
   "cell_type": "markdown",
   "metadata": {},
   "source": [
    "# <span style=\"color:orange\">27/05 - Pair Testestadisticos 3- Alicia y Lidia</span>"
   ]
  },
  {
   "cell_type": "code",
   "execution_count": null,
   "metadata": {},
   "outputs": [],
   "source": [
    "import pandas as pd\n",
    "import numpy as np\n",
    "import statsmodels.api as sm \n",
    "from scipy.stats import skew \n",
    "from scipy.stats import kurtosistest \n",
    "from scipy import stats\n",
    "from scipy.stats import kstest \n",
    "from scipy.stats import ks_2samp\n",
    "import matplotlib.pyplot as plt\n",
    "from scipy import stats\n",
    "import seaborn as sns"
   ]
  },
  {
   "cell_type": "markdown",
   "metadata": {},
   "source": [
    "De nuevo, seguiremos trabajando con los datos del alquiler de casas de Madrid. \n",
    "\n",
    "Recordemos que en el primer pair programming eliminamos algunas columnas, por lo que deberemos trabajar con el csv que guardamos en ese ejercicio.\n",
    "\n",
    "Los objetivos del pair programming de hoy son:\n",
    "\n",
    "Usaremos el dataset de listings_limpio-2 en el caso que no hayamos llegado a terminar el pair de ayer. Si tenéis el csv de ayer es preferido que uséis ese."
   ]
  },
  {
   "cell_type": "code",
   "execution_count": null,
   "metadata": {},
   "outputs": [],
   "source": [
    "df = pd.read_csv(\"./listing_nuevo.csv\", index_col=0)\n",
    "df.head(2)"
   ]
  },
  {
   "cell_type": "markdown",
   "metadata": {},
   "source": [
    "\n",
    "Chequead los outliers y haced la gestión de ellos, como aprendimos en las lecciones de limpieza"
   ]
  },
  {
   "cell_type": "code",
   "execution_count": null,
   "metadata": {},
   "outputs": [],
   "source": []
  },
  {
   "cell_type": "markdown",
   "metadata": {},
   "source": [
    "¿Sigue la columma price una distribución normal? Chequeadlo visual y analiticamente.\n",
    "\n",
    "En caso de que no siga una distribución normal, realizad la transformación necesaria para que se ajuste a una normal."
   ]
  },
  {
   "cell_type": "code",
   "execution_count": null,
   "metadata": {},
   "outputs": [],
   "source": []
  },
  {
   "cell_type": "markdown",
   "metadata": {},
   "source": [
    "Chequead la independencia entre las siguientes columnas: neighbourhood_group y room_type"
   ]
  },
  {
   "cell_type": "code",
   "execution_count": null,
   "metadata": {},
   "outputs": [],
   "source": []
  },
  {
   "cell_type": "markdown",
   "metadata": {},
   "source": [
    "Chequead la heterocedasticidad de la columna room_type frente al price"
   ]
  },
  {
   "cell_type": "code",
   "execution_count": null,
   "metadata": {},
   "outputs": [],
   "source": []
  }
 ],
 "metadata": {
  "language_info": {
   "name": "python"
  },
  "orig_nbformat": 4
 },
 "nbformat": 4,
 "nbformat_minor": 2
}
